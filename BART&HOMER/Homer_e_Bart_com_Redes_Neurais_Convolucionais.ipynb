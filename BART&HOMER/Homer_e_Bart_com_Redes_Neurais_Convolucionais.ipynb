{
  "nbformat": 4,
  "nbformat_minor": 0,
  "metadata": {
    "colab": {
      "provenance": []
    },
    "kernelspec": {
      "name": "python3",
      "display_name": "Python 3"
    },
    "accelerator": "GPU"
  },
  "cells": [
    {
      "cell_type": "markdown",
      "metadata": {
        "id": "5tP2BcEILoLB"
      },
      "source": [
        "## Etapa 1: Importação das bibliotecas"
      ]
    },
    {
      "cell_type": "code",
      "metadata": {
        "id": "Yf0FpJ35Lf-Z",
        "outputId": "7f2253d8-363e-43a4-c63e-6738a5ec43b8",
        "colab": {
          "base_uri": "https://localhost:8080/",
          "height": 36
        }
      },
      "source": [
        "import torch\n",
        "from torch import nn, optim\n",
        "from torchvision import datasets, transforms\n",
        "import zipfile\n",
        "torch.__version__"
      ],
      "execution_count": 1,
      "outputs": [
        {
          "output_type": "execute_result",
          "data": {
            "text/plain": [
              "'1.13.1+cu116'"
            ],
            "application/vnd.google.colaboratory.intrinsic+json": {
              "type": "string"
            }
          },
          "metadata": {},
          "execution_count": 1
        }
      ]
    },
    {
      "cell_type": "code",
      "metadata": {
        "id": "X1vw_qANCnRx",
        "outputId": "3fb614fe-a1a4-4f18-f194-e7c2d6b250b4",
        "colab": {
          "base_uri": "https://localhost:8080/"
        }
      },
      "source": [
        "torch.manual_seed(123)"
      ],
      "execution_count": 2,
      "outputs": [
        {
          "output_type": "execute_result",
          "data": {
            "text/plain": [
              "<torch._C.Generator at 0x7f7912c52470>"
            ]
          },
          "metadata": {},
          "execution_count": 2
        }
      ]
    },
    {
      "cell_type": "markdown",
      "metadata": {
        "id": "C0SD4dJ4MDMN"
      },
      "source": [
        "## Etapa 2: Construção do modelo"
      ]
    },
    {
      "cell_type": "code",
      "metadata": {
        "id": "d403_hLmfiKi"
      },
      "source": [
        "classificador = nn.Sequential(\n",
        "                              nn.Conv2d(in_channels = 3, out_channels = 32, kernel_size = 3),\n",
        "                              nn.ReLU(),\n",
        "                              nn.MaxPool2d(kernel_size = 2),\n",
        "                              nn.Conv2d(32, 32, 3),\n",
        "                              nn.ReLU(),\n",
        "                              nn.MaxPool2d(2),\n",
        "                              nn.Flatten(),\n",
        "                              nn.Linear(in_features = 14*14*32, out_features = 4),\n",
        "                              nn.ReLU(),\n",
        "                              nn.Linear(4, 4),\n",
        "                              nn.ReLU(),\n",
        "                              nn.Linear(4, 1),\n",
        "                              nn.Sigmoid()\n",
        "                              )"
      ],
      "execution_count": 3,
      "outputs": []
    },
    {
      "cell_type": "code",
      "metadata": {
        "id": "TF0aWpgKhd1U"
      },
      "source": [
        "criterion = nn.BCELoss()\n",
        "optimizer = optim.Adam(classificador.parameters())"
      ],
      "execution_count": 4,
      "outputs": []
    },
    {
      "cell_type": "markdown",
      "metadata": {
        "id": "QGDLesyDQpIb"
      },
      "source": [
        "## Etapa 3: Base de dados"
      ]
    },
    {
      "cell_type": "code",
      "metadata": {
        "id": "wtFmsx5CiFiF",
        "outputId": "959c39c6-fd46-4af6-fc1a-a7c22b8c0a2d",
        "colab": {
          "base_uri": "https://localhost:8080/"
        }
      },
      "source": [
        "from google.colab import drive\n",
        "drive.mount('/content/gdrive')"
      ],
      "execution_count": 5,
      "outputs": [
        {
          "output_type": "stream",
          "name": "stdout",
          "text": [
            "Mounted at /content/gdrive\n"
          ]
        }
      ]
    },
    {
      "cell_type": "code",
      "metadata": {
        "id": "VrFGMM3Qiboh"
      },
      "source": [
        "path = '/content/gdrive/MyDrive/Deep Learing de A à Z com PyTorch/Bases/dataset_personagens.zip'\n",
        "zip_object = zipfile.ZipFile(file = path, mode = 'r')\n",
        "zip_object.extractall('./')\n",
        "zip_object.close()"
      ],
      "execution_count": 7,
      "outputs": []
    },
    {
      "cell_type": "code",
      "metadata": {
        "id": "XJlU2mkBi82r"
      },
      "source": [
        "data_dir_train = '/content/dataset_personagens/training_set'\n",
        "data_dir_test = '/content/dataset_personagens/test_set'"
      ],
      "execution_count": 9,
      "outputs": []
    },
    {
      "cell_type": "code",
      "metadata": {
        "id": "oe0zfyIujF4r"
      },
      "source": [
        "transform_train = transforms.Compose([\n",
        "                                      transforms.Resize([64, 64]),\n",
        "                                      transforms.RandomHorizontalFlip(),\n",
        "                                      transforms.RandomAffine(degrees = 7, \n",
        "                                                              translate = (0, 0.07),\n",
        "                                                              shear = 0.2,\n",
        "                                                              scale = (1, 1.2)\n",
        "                                                              ),\n",
        "                                      transforms.ToTensor()\n",
        "                                      ])"
      ],
      "execution_count": 10,
      "outputs": []
    },
    {
      "cell_type": "code",
      "metadata": {
        "id": "TrfHFgirjyiP"
      },
      "source": [
        "transform_test = transforms.Compose([\n",
        "                                     transforms.Resize([64, 64]),\n",
        "                                     transforms.ToTensor()\n",
        "                                     ])"
      ],
      "execution_count": 11,
      "outputs": []
    },
    {
      "cell_type": "code",
      "metadata": {
        "id": "ifHEpYOKBhTx"
      },
      "source": [
        "train_dataset = datasets.ImageFolder(data_dir_train, transform = transform_train)\n",
        "train_loader = torch.utils.data.DataLoader(train_dataset, batch_size = 10, shuffle = True)"
      ],
      "execution_count": 12,
      "outputs": []
    },
    {
      "cell_type": "code",
      "metadata": {
        "id": "tWhjGGVeBki4"
      },
      "source": [
        "test_dataset = datasets.ImageFolder(data_dir_test, transform = transform_test)\n",
        "test_loader = torch.utils.data.DataLoader(test_dataset, batch_size = 10, shuffle = True)"
      ],
      "execution_count": 13,
      "outputs": []
    },
    {
      "cell_type": "markdown",
      "metadata": {
        "id": "appMwDHtRTN5"
      },
      "source": [
        "## Etapa 4: Treinamento e avaliação"
      ]
    },
    {
      "cell_type": "code",
      "metadata": {
        "id": "NuB-jEM_T8_I",
        "outputId": "eec77568-fc0b-4605-bf32-de4f7a0731cc",
        "colab": {
          "base_uri": "https://localhost:8080/"
        }
      },
      "source": [
        "device = torch.device('cuda') if torch.cuda.is_available() else torch.device('cpu')\n",
        "device"
      ],
      "execution_count": 14,
      "outputs": [
        {
          "output_type": "execute_result",
          "data": {
            "text/plain": [
              "device(type='cuda')"
            ]
          },
          "metadata": {},
          "execution_count": 14
        }
      ]
    },
    {
      "cell_type": "code",
      "metadata": {
        "id": "uAIlw7fR8QtS",
        "outputId": "6d84ae4d-93fb-40d9-b900-9e9398a00fed",
        "colab": {
          "base_uri": "https://localhost:8080/"
        }
      },
      "source": [
        "classificador.to(device)"
      ],
      "execution_count": 15,
      "outputs": [
        {
          "output_type": "execute_result",
          "data": {
            "text/plain": [
              "Sequential(\n",
              "  (0): Conv2d(3, 32, kernel_size=(3, 3), stride=(1, 1))\n",
              "  (1): ReLU()\n",
              "  (2): MaxPool2d(kernel_size=2, stride=2, padding=0, dilation=1, ceil_mode=False)\n",
              "  (3): Conv2d(32, 32, kernel_size=(3, 3), stride=(1, 1))\n",
              "  (4): ReLU()\n",
              "  (5): MaxPool2d(kernel_size=2, stride=2, padding=0, dilation=1, ceil_mode=False)\n",
              "  (6): Flatten(start_dim=1, end_dim=-1)\n",
              "  (7): Linear(in_features=6272, out_features=4, bias=True)\n",
              "  (8): ReLU()\n",
              "  (9): Linear(in_features=4, out_features=4, bias=True)\n",
              "  (10): ReLU()\n",
              "  (11): Linear(in_features=4, out_features=1, bias=True)\n",
              "  (12): Sigmoid()\n",
              ")"
            ]
          },
          "metadata": {},
          "execution_count": 15
        }
      ]
    },
    {
      "cell_type": "code",
      "metadata": {
        "id": "OxqnJdUsELbQ"
      },
      "source": [
        "def training_loop(loader, epoch):\n",
        "    running_loss = 0.\n",
        "    running_accuracy = 0.\n",
        "    \n",
        "    for i, data in enumerate(loader):\n",
        "        inputs, labels = data\n",
        "        inputs, labels = inputs.to(device), labels.to(device)\n",
        "\n",
        "        optimizer.zero_grad()        \n",
        "\n",
        "        outputs = classificador(inputs)\n",
        "                \n",
        "        loss = criterion(outputs, labels.float().view(*outputs.shape))\n",
        "        running_loss += loss.item()\n",
        "        loss.backward()\n",
        "        \n",
        "        optimizer.step()\n",
        "\n",
        "        predicted = torch.tensor([1 if output > 0.5 else 0 for output in outputs]).to(device)\n",
        "        equals = predicted == labels.view(*predicted.shape)\n",
        "        accuracy = torch.mean(equals.float())\n",
        "        running_accuracy += accuracy\n",
        "      \n",
        "        # Imprimindo os dados referentes a esse loop\n",
        "        print('\\rÉpoca {:3d} - Loop {:3d} de {:3d}: perda {:03.2f} - precisão {:03.2f}'.format(epoch + 1, i + 1, len(loader), loss, accuracy), end = '\\r')\n",
        "        \n",
        "    # Imprimindo os dados referentes a essa época\n",
        "    print('\\rÉPOCA {:3d} FINALIZADA: perda {:.5f} - precisão {:.5f}'.format(epoch + 1, running_loss/len(loader), running_accuracy/len(loader)))"
      ],
      "execution_count": 16,
      "outputs": []
    },
    {
      "cell_type": "code",
      "metadata": {
        "id": "eEKi9zzYEmIU",
        "outputId": "ea48fb48-2df9-469d-b822-40046096213e",
        "colab": {
          "base_uri": "https://localhost:8080/"
        }
      },
      "source": [
        "for epoch in range(100):\n",
        "    print('Treinando...')\n",
        "    training_loop(train_loader, epoch)\n",
        "    classificador.eval()\n",
        "    print('Validando...')\n",
        "    training_loop(test_loader, epoch)\n",
        "    classificador.train()"
      ],
      "execution_count": 17,
      "outputs": [
        {
          "output_type": "stream",
          "name": "stdout",
          "text": [
            "Treinando...\n",
            "ÉPOCA   1 FINALIZADA: perda 0.66976 - precisão 0.60667\n",
            "Validando...\n",
            "ÉPOCA   1 FINALIZADA: perda 0.65554 - precisão 0.61250\n",
            "Treinando...\n",
            "ÉPOCA   2 FINALIZADA: perda 0.64320 - precisão 0.70167\n",
            "Validando...\n",
            "ÉPOCA   2 FINALIZADA: perda 0.60807 - precisão 0.74583\n",
            "Treinando...\n",
            "ÉPOCA   3 FINALIZADA: perda 0.61225 - precisão 0.74667\n",
            "Validando...\n",
            "ÉPOCA   3 FINALIZADA: perda 0.55814 - precisão 0.77500\n",
            "Treinando...\n",
            "ÉPOCA   4 FINALIZADA: perda 0.60686 - precisão 0.76833\n",
            "Validando...\n",
            "ÉPOCA   4 FINALIZADA: perda 0.53045 - precisão 0.75417\n",
            "Treinando...\n",
            "ÉPOCA   5 FINALIZADA: perda 0.59738 - precisão 0.75000\n",
            "Validando...\n",
            "ÉPOCA   5 FINALIZADA: perda 0.49240 - precisão 0.87083\n",
            "Treinando...\n",
            "ÉPOCA   6 FINALIZADA: perda 0.58423 - precisão 0.76667\n",
            "Validando...\n",
            "ÉPOCA   6 FINALIZADA: perda 0.46372 - precisão 0.85000\n",
            "Treinando...\n",
            "ÉPOCA   7 FINALIZADA: perda 0.56587 - precisão 0.79000\n",
            "Validando...\n",
            "ÉPOCA   7 FINALIZADA: perda 0.42674 - precisão 0.88750\n",
            "Treinando...\n",
            "ÉPOCA   8 FINALIZADA: perda 0.57075 - precisão 0.74833\n",
            "Validando...\n",
            "ÉPOCA   8 FINALIZADA: perda 0.42489 - precisão 0.87500\n",
            "Treinando...\n",
            "ÉPOCA   9 FINALIZADA: perda 0.59244 - precisão 0.74667\n",
            "Validando...\n",
            "ÉPOCA   9 FINALIZADA: perda 0.43523 - precisão 0.91250\n",
            "Treinando...\n",
            "ÉPOCA  10 FINALIZADA: perda 0.57186 - precisão 0.77167\n",
            "Validando...\n",
            "ÉPOCA  10 FINALIZADA: perda 0.42776 - precisão 0.87500\n",
            "Treinando...\n",
            "ÉPOCA  11 FINALIZADA: perda 0.57332 - precisão 0.74167\n",
            "Validando...\n",
            "ÉPOCA  11 FINALIZADA: perda 0.39886 - precisão 0.91250\n",
            "Treinando...\n",
            "ÉPOCA  12 FINALIZADA: perda 0.55833 - precisão 0.76167\n",
            "Validando...\n",
            "ÉPOCA  12 FINALIZADA: perda 0.41748 - precisão 0.89583\n",
            "Treinando...\n",
            "ÉPOCA  13 FINALIZADA: perda 0.53761 - precisão 0.78667\n",
            "Validando...\n",
            "ÉPOCA  13 FINALIZADA: perda 0.39022 - precisão 0.92500\n",
            "Treinando...\n",
            "ÉPOCA  14 FINALIZADA: perda 0.51604 - precisão 0.80333\n",
            "Validando...\n",
            "ÉPOCA  14 FINALIZADA: perda 0.44011 - precisão 0.87500\n",
            "Treinando...\n",
            "ÉPOCA  15 FINALIZADA: perda 0.50837 - precisão 0.83000\n",
            "Validando...\n",
            "ÉPOCA  15 FINALIZADA: perda 0.37213 - precisão 0.95000\n",
            "Treinando...\n",
            "ÉPOCA  16 FINALIZADA: perda 0.52057 - precisão 0.80500\n",
            "Validando...\n",
            "ÉPOCA  16 FINALIZADA: perda 0.34554 - precisão 0.95000\n",
            "Treinando...\n",
            "ÉPOCA  17 FINALIZADA: perda 0.51363 - precisão 0.82000\n",
            "Validando...\n",
            "ÉPOCA  17 FINALIZADA: perda 0.36658 - precisão 0.96250\n",
            "Treinando...\n",
            "ÉPOCA  18 FINALIZADA: perda 0.48469 - precisão 0.84167\n",
            "Validando...\n",
            "ÉPOCA  18 FINALIZADA: perda 0.32863 - precisão 0.96250\n",
            "Treinando...\n",
            "ÉPOCA  19 FINALIZADA: perda 0.48496 - precisão 0.82500\n",
            "Validando...\n",
            "ÉPOCA  19 FINALIZADA: perda 0.32412 - precisão 0.95000\n",
            "Treinando...\n",
            "ÉPOCA  20 FINALIZADA: perda 0.45768 - precisão 0.82167\n",
            "Validando...\n",
            "ÉPOCA  20 FINALIZADA: perda 0.31840 - precisão 0.97500\n",
            "Treinando...\n",
            "ÉPOCA  21 FINALIZADA: perda 0.49600 - precisão 0.80833\n",
            "Validando...\n",
            "ÉPOCA  21 FINALIZADA: perda 0.28188 - precisão 0.97500\n",
            "Treinando...\n",
            "ÉPOCA  22 FINALIZADA: perda 0.47450 - precisão 0.82667\n",
            "Validando...\n",
            "ÉPOCA  22 FINALIZADA: perda 0.30126 - precisão 0.97500\n",
            "Treinando...\n",
            "ÉPOCA  23 FINALIZADA: perda 0.46729 - precisão 0.83500\n",
            "Validando...\n",
            "ÉPOCA  23 FINALIZADA: perda 0.29693 - precisão 0.95000\n",
            "Treinando...\n",
            "ÉPOCA  24 FINALIZADA: perda 0.46202 - precisão 0.81667\n",
            "Validando...\n",
            "ÉPOCA  24 FINALIZADA: perda 0.30217 - precisão 0.98750\n",
            "Treinando...\n",
            "ÉPOCA  25 FINALIZADA: perda 0.46565 - precisão 0.83167\n",
            "Validando...\n",
            "ÉPOCA  25 FINALIZADA: perda 0.34530 - precisão 0.90833\n",
            "Treinando...\n",
            "ÉPOCA  26 FINALIZADA: perda 0.46598 - precisão 0.82500\n",
            "Validando...\n",
            "ÉPOCA  26 FINALIZADA: perda 0.26945 - precisão 0.98750\n",
            "Treinando...\n",
            "ÉPOCA  27 FINALIZADA: perda 0.49167 - precisão 0.78833\n",
            "Validando...\n",
            "ÉPOCA  27 FINALIZADA: perda 0.29106 - precisão 0.96250\n",
            "Treinando...\n",
            "ÉPOCA  28 FINALIZADA: perda 0.42159 - precisão 0.83167\n",
            "Validando...\n",
            "ÉPOCA  28 FINALIZADA: perda 0.30593 - precisão 0.98750\n",
            "Treinando...\n",
            "ÉPOCA  29 FINALIZADA: perda 0.42774 - precisão 0.84333\n",
            "Validando...\n",
            "ÉPOCA  29 FINALIZADA: perda 0.25774 - precisão 0.98750\n",
            "Treinando...\n",
            "ÉPOCA  30 FINALIZADA: perda 0.41205 - precisão 0.85667\n",
            "Validando...\n",
            "ÉPOCA  30 FINALIZADA: perda 0.26504 - precisão 0.96250\n",
            "Treinando...\n",
            "ÉPOCA  31 FINALIZADA: perda 0.41834 - precisão 0.84167\n",
            "Validando...\n",
            "ÉPOCA  31 FINALIZADA: perda 0.26914 - precisão 0.97500\n",
            "Treinando...\n",
            "ÉPOCA  32 FINALIZADA: perda 0.43236 - precisão 0.86000\n",
            "Validando...\n",
            "ÉPOCA  32 FINALIZADA: perda 0.28029 - precisão 0.97500\n",
            "Treinando...\n",
            "ÉPOCA  33 FINALIZADA: perda 0.38637 - precisão 0.87000\n",
            "Validando...\n",
            "ÉPOCA  33 FINALIZADA: perda 0.27608 - precisão 0.97500\n",
            "Treinando...\n",
            "ÉPOCA  34 FINALIZADA: perda 0.38296 - precisão 0.86833\n",
            "Validando...\n",
            "ÉPOCA  34 FINALIZADA: perda 0.21981 - precisão 0.98750\n",
            "Treinando...\n",
            "ÉPOCA  35 FINALIZADA: perda 0.39814 - precisão 0.87000\n",
            "Validando...\n",
            "ÉPOCA  35 FINALIZADA: perda 0.25724 - precisão 0.94583\n",
            "Treinando...\n",
            "ÉPOCA  36 FINALIZADA: perda 0.42704 - precisão 0.82000\n",
            "Validando...\n",
            "ÉPOCA  36 FINALIZADA: perda 0.25794 - precisão 0.95000\n",
            "Treinando...\n",
            "ÉPOCA  37 FINALIZADA: perda 0.37336 - precisão 0.87667\n",
            "Validando...\n",
            "ÉPOCA  37 FINALIZADA: perda 0.22830 - precisão 0.98750\n",
            "Treinando...\n",
            "ÉPOCA  38 FINALIZADA: perda 0.36966 - precisão 0.87167\n",
            "Validando...\n",
            "ÉPOCA  38 FINALIZADA: perda 0.24055 - precisão 0.97500\n",
            "Treinando...\n",
            "ÉPOCA  39 FINALIZADA: perda 0.35593 - precisão 0.87167\n",
            "Validando...\n",
            "ÉPOCA  39 FINALIZADA: perda 0.19693 - precisão 0.98750\n",
            "Treinando...\n",
            "ÉPOCA  40 FINALIZADA: perda 0.33900 - precisão 0.90167\n",
            "Validando...\n",
            "ÉPOCA  40 FINALIZADA: perda 0.21856 - precisão 0.98750\n",
            "Treinando...\n",
            "ÉPOCA  41 FINALIZADA: perda 0.35860 - precisão 0.87167\n",
            "Validando...\n",
            "ÉPOCA  41 FINALIZADA: perda 0.20293 - precisão 0.98750\n",
            "Treinando...\n",
            "ÉPOCA  42 FINALIZADA: perda 0.34712 - precisão 0.87833\n",
            "Validando...\n",
            "ÉPOCA  42 FINALIZADA: perda 0.21535 - precisão 0.98750\n",
            "Treinando...\n",
            "ÉPOCA  43 FINALIZADA: perda 0.33577 - precisão 0.91167\n",
            "Validando...\n",
            "ÉPOCA  43 FINALIZADA: perda 0.19367 - precisão 0.98750\n",
            "Treinando...\n",
            "ÉPOCA  44 FINALIZADA: perda 0.32266 - precisão 0.90000\n",
            "Validando...\n",
            "ÉPOCA  44 FINALIZADA: perda 0.19749 - precisão 0.97500\n",
            "Treinando...\n",
            "ÉPOCA  45 FINALIZADA: perda 0.29885 - precisão 0.92000\n",
            "Validando...\n",
            "ÉPOCA  45 FINALIZADA: perda 0.18737 - precisão 0.98750\n",
            "Treinando...\n",
            "ÉPOCA  46 FINALIZADA: perda 0.29852 - precisão 0.91000\n",
            "Validando...\n",
            "ÉPOCA  46 FINALIZADA: perda 0.19427 - precisão 0.98750\n",
            "Treinando...\n",
            "ÉPOCA  47 FINALIZADA: perda 0.29511 - precisão 0.90500\n",
            "Validando...\n",
            "ÉPOCA  47 FINALIZADA: perda 0.17141 - precisão 0.98750\n",
            "Treinando...\n",
            "ÉPOCA  48 FINALIZADA: perda 0.27164 - precisão 0.92667\n",
            "Validando...\n",
            "ÉPOCA  48 FINALIZADA: perda 0.17329 - precisão 0.98750\n",
            "Treinando...\n",
            "ÉPOCA  49 FINALIZADA: perda 0.34118 - precisão 0.90167\n",
            "Validando...\n",
            "ÉPOCA  49 FINALIZADA: perda 0.16711 - precisão 0.98750\n",
            "Treinando...\n",
            "ÉPOCA  50 FINALIZADA: perda 0.29984 - precisão 0.91833\n",
            "Validando...\n",
            "ÉPOCA  50 FINALIZADA: perda 0.17172 - precisão 1.00000\n",
            "Treinando...\n",
            "ÉPOCA  51 FINALIZADA: perda 0.29333 - precisão 0.94000\n",
            "Validando...\n",
            "ÉPOCA  51 FINALIZADA: perda 0.14873 - precisão 1.00000\n",
            "Treinando...\n",
            "ÉPOCA  52 FINALIZADA: perda 0.31684 - precisão 0.90000\n",
            "Validando...\n",
            "ÉPOCA  52 FINALIZADA: perda 0.15978 - precisão 1.00000\n",
            "Treinando...\n",
            "ÉPOCA  53 FINALIZADA: perda 0.27323 - precisão 0.92500\n",
            "Validando...\n",
            "ÉPOCA  53 FINALIZADA: perda 0.15011 - precisão 1.00000\n",
            "Treinando...\n",
            "ÉPOCA  54 FINALIZADA: perda 0.25968 - precisão 0.93167\n",
            "Validando...\n",
            "ÉPOCA  54 FINALIZADA: perda 0.14305 - precisão 1.00000\n",
            "Treinando...\n",
            "ÉPOCA  55 FINALIZADA: perda 0.26032 - precisão 0.93167\n",
            "Validando...\n",
            "ÉPOCA  55 FINALIZADA: perda 0.13049 - precisão 1.00000\n",
            "Treinando...\n",
            "ÉPOCA  56 FINALIZADA: perda 0.28379 - precisão 0.91667\n",
            "Validando...\n",
            "ÉPOCA  56 FINALIZADA: perda 0.17416 - precisão 0.97500\n",
            "Treinando...\n",
            "ÉPOCA  57 FINALIZADA: perda 0.31802 - precisão 0.88500\n",
            "Validando...\n",
            "ÉPOCA  57 FINALIZADA: perda 0.13934 - precisão 1.00000\n",
            "Treinando...\n",
            "ÉPOCA  58 FINALIZADA: perda 0.29505 - precisão 0.90500\n",
            "Validando...\n",
            "ÉPOCA  58 FINALIZADA: perda 0.13336 - precisão 1.00000\n",
            "Treinando...\n",
            "ÉPOCA  59 FINALIZADA: perda 0.26175 - precisão 0.93167\n",
            "Validando...\n",
            "ÉPOCA  59 FINALIZADA: perda 0.13301 - precisão 1.00000\n",
            "Treinando...\n",
            "ÉPOCA  60 FINALIZADA: perda 0.25229 - precisão 0.93667\n",
            "Validando...\n",
            "ÉPOCA  60 FINALIZADA: perda 0.13419 - precisão 1.00000\n",
            "Treinando...\n",
            "ÉPOCA  61 FINALIZADA: perda 0.23583 - precisão 0.93000\n",
            "Validando...\n",
            "ÉPOCA  61 FINALIZADA: perda 0.12952 - precisão 1.00000\n",
            "Treinando...\n",
            "ÉPOCA  62 FINALIZADA: perda 0.24684 - precisão 0.95000\n",
            "Validando...\n",
            "ÉPOCA  62 FINALIZADA: perda 0.11961 - precisão 1.00000\n",
            "Treinando...\n",
            "ÉPOCA  63 FINALIZADA: perda 0.25197 - precisão 0.93000\n",
            "Validando...\n",
            "ÉPOCA  63 FINALIZADA: perda 0.14483 - precisão 1.00000\n",
            "Treinando...\n",
            "ÉPOCA  64 FINALIZADA: perda 0.24127 - precisão 0.93333\n",
            "Validando...\n",
            "ÉPOCA  64 FINALIZADA: perda 0.13036 - precisão 1.00000\n",
            "Treinando...\n",
            "ÉPOCA  65 FINALIZADA: perda 0.25322 - precisão 0.92500\n",
            "Validando...\n",
            "ÉPOCA  65 FINALIZADA: perda 0.12484 - precisão 1.00000\n",
            "Treinando...\n",
            "ÉPOCA  66 FINALIZADA: perda 0.23451 - precisão 0.93000\n",
            "Validando...\n",
            "ÉPOCA  66 FINALIZADA: perda 0.13034 - precisão 1.00000\n",
            "Treinando...\n",
            "ÉPOCA  67 FINALIZADA: perda 0.26235 - precisão 0.91000\n",
            "Validando...\n",
            "ÉPOCA  67 FINALIZADA: perda 0.13452 - precisão 1.00000\n",
            "Treinando...\n",
            "ÉPOCA  68 FINALIZADA: perda 0.26837 - precisão 0.93667\n",
            "Validando...\n",
            "ÉPOCA  68 FINALIZADA: perda 0.11960 - precisão 1.00000\n",
            "Treinando...\n",
            "ÉPOCA  69 FINALIZADA: perda 0.24646 - precisão 0.92000\n",
            "Validando...\n",
            "ÉPOCA  69 FINALIZADA: perda 0.12888 - precisão 1.00000\n",
            "Treinando...\n",
            "ÉPOCA  70 FINALIZADA: perda 0.23923 - precisão 0.93500\n",
            "Validando...\n",
            "ÉPOCA  70 FINALIZADA: perda 0.12485 - precisão 0.98750\n",
            "Treinando...\n",
            "ÉPOCA  71 FINALIZADA: perda 0.22190 - precisão 0.94167\n",
            "Validando...\n",
            "ÉPOCA  71 FINALIZADA: perda 0.13085 - precisão 1.00000\n",
            "Treinando...\n",
            "ÉPOCA  72 FINALIZADA: perda 0.25069 - precisão 0.91500\n",
            "Validando...\n",
            "ÉPOCA  72 FINALIZADA: perda 0.11091 - precisão 0.98750\n",
            "Treinando...\n",
            "ÉPOCA  73 FINALIZADA: perda 0.22810 - precisão 0.94000\n",
            "Validando...\n",
            "ÉPOCA  73 FINALIZADA: perda 0.12611 - precisão 0.97500\n",
            "Treinando...\n",
            "ÉPOCA  74 FINALIZADA: perda 0.24462 - precisão 0.92000\n",
            "Validando...\n",
            "ÉPOCA  74 FINALIZADA: perda 0.10035 - precisão 1.00000\n",
            "Treinando...\n",
            "ÉPOCA  75 FINALIZADA: perda 0.24884 - precisão 0.93000\n",
            "Validando...\n",
            "ÉPOCA  75 FINALIZADA: perda 0.11008 - precisão 1.00000\n",
            "Treinando...\n",
            "ÉPOCA  76 FINALIZADA: perda 0.25646 - precisão 0.92167\n",
            "Validando...\n",
            "ÉPOCA  76 FINALIZADA: perda 0.12588 - precisão 1.00000\n",
            "Treinando...\n",
            "ÉPOCA  77 FINALIZADA: perda 0.23169 - precisão 0.93500\n",
            "Validando...\n",
            "ÉPOCA  77 FINALIZADA: perda 0.12634 - precisão 1.00000\n",
            "Treinando...\n",
            "ÉPOCA  78 FINALIZADA: perda 0.25172 - precisão 0.89833\n",
            "Validando...\n",
            "ÉPOCA  78 FINALIZADA: perda 0.10729 - precisão 1.00000\n",
            "Treinando...\n",
            "ÉPOCA  79 FINALIZADA: perda 0.33088 - precisão 0.88167\n",
            "Validando...\n",
            "ÉPOCA  79 FINALIZADA: perda 0.10377 - precisão 1.00000\n",
            "Treinando...\n",
            "ÉPOCA  80 FINALIZADA: perda 0.19435 - precisão 0.95000\n",
            "Validando...\n",
            "ÉPOCA  80 FINALIZADA: perda 0.11606 - precisão 0.97500\n",
            "Treinando...\n",
            "ÉPOCA  81 FINALIZADA: perda 0.22397 - precisão 0.93167\n",
            "Validando...\n",
            "ÉPOCA  81 FINALIZADA: perda 0.09125 - precisão 1.00000\n",
            "Treinando...\n",
            "ÉPOCA  82 FINALIZADA: perda 0.24407 - precisão 0.91833\n",
            "Validando...\n",
            "ÉPOCA  82 FINALIZADA: perda 0.09173 - precisão 1.00000\n",
            "Treinando...\n",
            "ÉPOCA  83 FINALIZADA: perda 0.20076 - precisão 0.95167\n",
            "Validando...\n",
            "ÉPOCA  83 FINALIZADA: perda 0.08952 - precisão 1.00000\n",
            "Treinando...\n",
            "ÉPOCA  84 FINALIZADA: perda 0.20792 - precisão 0.94000\n",
            "Validando...\n",
            "ÉPOCA  84 FINALIZADA: perda 0.09411 - precisão 1.00000\n",
            "Treinando...\n",
            "ÉPOCA  85 FINALIZADA: perda 0.21590 - precisão 0.93667\n",
            "Validando...\n",
            "ÉPOCA  85 FINALIZADA: perda 0.09157 - precisão 1.00000\n",
            "Treinando...\n",
            "ÉPOCA  86 FINALIZADA: perda 0.20972 - precisão 0.92500\n",
            "Validando...\n",
            "ÉPOCA  86 FINALIZADA: perda 0.10554 - precisão 1.00000\n",
            "Treinando...\n",
            "ÉPOCA  87 FINALIZADA: perda 0.26237 - precisão 0.91000\n",
            "Validando...\n",
            "ÉPOCA  87 FINALIZADA: perda 0.08773 - precisão 1.00000\n",
            "Treinando...\n",
            "ÉPOCA  88 FINALIZADA: perda 0.19429 - precisão 0.94333\n",
            "Validando...\n",
            "ÉPOCA  88 FINALIZADA: perda 0.09733 - precisão 1.00000\n",
            "Treinando...\n",
            "ÉPOCA  89 FINALIZADA: perda 0.19950 - precisão 0.93500\n",
            "Validando...\n",
            "ÉPOCA  89 FINALIZADA: perda 0.08297 - precisão 1.00000\n",
            "Treinando...\n",
            "ÉPOCA  90 FINALIZADA: perda 0.17656 - precisão 0.96000\n",
            "Validando...\n",
            "ÉPOCA  90 FINALIZADA: perda 0.08620 - precisão 1.00000\n",
            "Treinando...\n",
            "ÉPOCA  91 FINALIZADA: perda 0.17588 - precisão 0.96500\n",
            "Validando...\n",
            "ÉPOCA  91 FINALIZADA: perda 0.08648 - precisão 1.00000\n",
            "Treinando...\n",
            "ÉPOCA  92 FINALIZADA: perda 0.19164 - precisão 0.95000\n",
            "Validando...\n",
            "ÉPOCA  92 FINALIZADA: perda 0.08665 - precisão 1.00000\n",
            "Treinando...\n",
            "ÉPOCA  93 FINALIZADA: perda 0.21209 - precisão 0.93500\n",
            "Validando...\n",
            "ÉPOCA  93 FINALIZADA: perda 0.07473 - precisão 1.00000\n",
            "Treinando...\n",
            "ÉPOCA  94 FINALIZADA: perda 0.15060 - precisão 0.97500\n",
            "Validando...\n",
            "ÉPOCA  94 FINALIZADA: perda 0.08182 - precisão 1.00000\n",
            "Treinando...\n",
            "ÉPOCA  95 FINALIZADA: perda 0.18368 - precisão 0.95167\n",
            "Validando...\n",
            "ÉPOCA  95 FINALIZADA: perda 0.07317 - precisão 1.00000\n",
            "Treinando...\n",
            "ÉPOCA  96 FINALIZADA: perda 0.14841 - precisão 0.97500\n",
            "Validando...\n",
            "ÉPOCA  96 FINALIZADA: perda 0.08262 - precisão 1.00000\n",
            "Treinando...\n",
            "ÉPOCA  97 FINALIZADA: perda 0.15320 - precisão 0.97000\n",
            "Validando...\n",
            "ÉPOCA  97 FINALIZADA: perda 0.07483 - precisão 1.00000\n",
            "Treinando...\n",
            "ÉPOCA  98 FINALIZADA: perda 0.17966 - precisão 0.95500\n",
            "Validando...\n",
            "ÉPOCA  98 FINALIZADA: perda 0.08685 - precisão 1.00000\n",
            "Treinando...\n",
            "ÉPOCA  99 FINALIZADA: perda 0.20033 - precisão 0.94167\n",
            "Validando...\n",
            "ÉPOCA  99 FINALIZADA: perda 0.08101 - precisão 1.00000\n",
            "Treinando...\n",
            "ÉPOCA 100 FINALIZADA: perda 0.20612 - precisão 0.93500\n",
            "Validando...\n",
            "ÉPOCA 100 FINALIZADA: perda 0.07745 - precisão 1.00000\n"
          ]
        }
      ]
    },
    {
      "cell_type": "markdown",
      "metadata": {
        "id": "AyTjLzELSdQF"
      },
      "source": [
        "## Etapa 5: Avaliação do modelo"
      ]
    },
    {
      "cell_type": "code",
      "metadata": {
        "id": "wMRlArb6oqnk"
      },
      "source": [
        "def classificar_imagem(fname):\n",
        "  from PIL import Image\n",
        "  import matplotlib.pyplot as plt\n",
        "  imagem_teste = Image.open(data_dir_test + '/' + fname)\n",
        "  plt.imshow(imagem_teste)\n",
        "\n",
        "  import numpy as np\n",
        "  imagem_teste = imagem_teste.resize((64, 64))\n",
        "  imagem_teste = np.array(imagem_teste.getdata()).reshape(*imagem_teste.size, 3)\n",
        "  imagem_teste = imagem_teste / 255\n",
        "  imagem_teste = imagem_teste.transpose(2, 0, 1)\n",
        "  imagem_teste = torch.tensor(imagem_teste, dtype=torch.float).view(-1, *imagem_teste.shape)\n",
        "\n",
        "  classificador.eval()\n",
        "  imagem_teste = imagem_teste.to(device)\n",
        "  output = classificador.forward(imagem_teste)\n",
        "  if output > 0.5:\n",
        "    output = 1\n",
        "  else:\n",
        "    output = 0\n",
        "  print('Previsão: ', output)\n",
        "\n",
        "  idx_to_class = {value: key for key, value in test_dataset.class_to_idx.items()}\n",
        "\n",
        "  return idx_to_class[output]"
      ],
      "execution_count": 18,
      "outputs": []
    },
    {
      "cell_type": "code",
      "metadata": {
        "id": "dUxZY0I1qrNW",
        "outputId": "30d8c23f-6a9b-4af9-cc8d-de48769bddc2",
        "colab": {
          "base_uri": "https://localhost:8080/",
          "height": 307
        }
      },
      "source": [
        "imagem = '/bart/bart1.bmp'\n",
        "classificar_imagem(imagem)"
      ],
      "execution_count": 19,
      "outputs": [
        {
          "output_type": "stream",
          "name": "stdout",
          "text": [
            "Previsão:  0\n"
          ]
        },
        {
          "output_type": "execute_result",
          "data": {
            "text/plain": [
              "'bart'"
            ],
            "application/vnd.google.colaboratory.intrinsic+json": {
              "type": "string"
            }
          },
          "metadata": {},
          "execution_count": 19
        },
        {
          "output_type": "display_data",
          "data": {
            "text/plain": [
              "<Figure size 432x288 with 1 Axes>"
            ],
            "image/png": "[encoded data removed]"
          },
          "metadata": {
            "needs_background": "light"
          }
        }
      ]
    },
    {
      "cell_type": "code",
      "metadata": {
        "id": "E2GdIx-eqz8C",
        "outputId": "e97bb2dd-682f-4dde-bb6c-587c0cbc45ea",
        "colab": {
          "base_uri": "https://localhost:8080/",
          "height": 307
        }
      },
      "source": [
        "imagem = '/homer/homer7.bmp'\n",
        "classificar_imagem(imagem)"
      ],
      "execution_count": 20,
      "outputs": [
        {
          "output_type": "stream",
          "name": "stdout",
          "text": [
            "Previsão:  1\n"
          ]
        },
        {
          "output_type": "execute_result",
          "data": {
            "text/plain": [
              "'homer'"
            ],
            "application/vnd.google.colaboratory.intrinsic+json": {
              "type": "string"
            }
          },
          "metadata": {},
          "execution_count": 20
        },
        {
          "output_type": "display_data",
          "data": {
            "text/plain": [
              "<Figure size 432x288 with 1 Axes>"
            ],
            "image/png": "[encoded data removed]"
          },
          "metadata": {
            "needs_background": "light"
          }
        }
      ]
    }
  ]
}