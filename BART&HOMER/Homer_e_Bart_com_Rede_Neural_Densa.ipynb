{
  "nbformat": 4,
  "nbformat_minor": 0,
  "metadata": {
    "colab": {
      "provenance": []
    },
    "kernelspec": {
      "name": "python3",
      "display_name": "Python 3"
    },
    "accelerator": "GPU"
  },
  "cells": [
    {
      "cell_type": "markdown",
      "metadata": {
        "id": "5tP2BcEILoLB"
      },
      "source": [
        "## Etapa 1: Importação das bibliotecas"
      ]
    },
    {
      "cell_type": "code",
      "metadata": {
        "id": "Yf0FpJ35Lf-Z",
        "outputId": "c2da063a-6293-4d4e-aa91-647f04aabe15",
        "colab": {
          "base_uri": "https://localhost:8080/",
          "height": 36
        }
      },
      "source": [
        "import pandas as pd\n",
        "from sklearn.model_selection import train_test_split\n",
        "import numpy as np\n",
        "import torch\n",
        "from torch import nn, optim\n",
        "from sklearn.preprocessing import LabelEncoder\n",
        "from sklearn.metrics import accuracy_score\n",
        "torch.__version__"
      ],
      "execution_count": null,
      "outputs": [
        {
          "output_type": "execute_result",
          "data": {
            "text/plain": [
              "'1.13.1+cu116'"
            ],
            "application/vnd.google.colaboratory.intrinsic+json": {
              "type": "string"
            }
          },
          "metadata": {},
          "execution_count": 1
        }
      ]
    },
    {
      "cell_type": "markdown",
      "metadata": {
        "id": "C0SD4dJ4MDMN"
      },
      "source": [
        "## Etapa 2: Base de dados"
      ]
    },
    {
      "cell_type": "code",
      "metadata": {
        "id": "J9aIu62WMGo8"
      },
      "source": [
        "torch.manual_seed(123)\n",
        "np.random.seed(124)"
      ],
      "execution_count": null,
      "outputs": []
    },
    {
      "cell_type": "code",
      "source": [
        "from google.colab import drive\n",
        "drive.mount('/content/drive')"
      ],
      "metadata": {
        "colab": {
          "base_uri": "https://localhost:8080/"
        },
        "id": "XDLG7Al-aV89",
        "outputId": "1b2fc3cd-c9f8-478a-ee4f-b9f88cdb9f85"
      },
      "execution_count": null,
      "outputs": [
        {
          "output_type": "stream",
          "name": "stdout",
          "text": [
            "Mounted at /content/drive\n"
          ]
        }
      ]
    },
    {
      "cell_type": "code",
      "metadata": {
        "id": "LVkZkQb28WuA"
      },
      "source": [
        "base = pd.read_csv('/content/drive/MyDrive/Deep Learing de A à Z com PyTorch/Bases/personagens.csv')\n",
        "previsores = base.iloc[:, 0:6].values\n",
        "classe = base.iloc[:, 6].values"
      ],
      "execution_count": null,
      "outputs": []
    },
    {
      "cell_type": "code",
      "metadata": {
        "id": "N9mxqI1O9uQl"
      },
      "source": [
        "encoder = LabelEncoder() \n",
        "classe = encoder.fit_transform(classe)"
      ],
      "execution_count": null,
      "outputs": []
    },
    {
      "cell_type": "code",
      "metadata": {
        "id": "aurzbhPT9w8i"
      },
      "source": [
        "previsores_treinamento, previsores_teste, classe_treinamento, classe_teste = train_test_split(previsores, classe, test_size=0.25)"
      ],
      "execution_count": null,
      "outputs": []
    },
    {
      "cell_type": "code",
      "metadata": {
        "id": "5_5hC5fG90NI"
      },
      "source": [
        "previsores_treinamento = torch.tensor(np.array(previsores_treinamento), dtype = torch.float)\n",
        "classe_treinamento = torch.tensor(np.array(classe_treinamento), dtype = torch.float)"
      ],
      "execution_count": null,
      "outputs": []
    },
    {
      "cell_type": "code",
      "metadata": {
        "id": "U8LrHMgU92lo"
      },
      "source": [
        "dataset = torch.utils.data.TensorDataset(previsores_treinamento, classe_treinamento)\n",
        "train_loader = torch.utils.data.DataLoader(dataset, batch_size = 10, shuffle = True)"
      ],
      "execution_count": null,
      "outputs": []
    },
    {
      "cell_type": "markdown",
      "metadata": {
        "id": "QGDLesyDQpIb"
      },
      "source": [
        "## Etapa 3: Construção do modelo"
      ]
    },
    {
      "cell_type": "code",
      "metadata": {
        "id": "joAj8ky1AILH"
      },
      "source": [
        "classificador = nn.Sequential(\n",
        "        nn.Linear(6, 4),\n",
        "        nn.ReLU(),\n",
        "        nn.Linear(4, 4),\n",
        "        nn.ReLU(),\n",
        "        nn.Linear(4, 1),\n",
        "        nn.Sigmoid()\n",
        "        )"
      ],
      "execution_count": null,
      "outputs": []
    },
    {
      "cell_type": "code",
      "metadata": {
        "id": "tIeFTUKFHBW-"
      },
      "source": [
        "criterion = nn.BCELoss()\n",
        "optimizer = optim.Adam(classificador.parameters())"
      ],
      "execution_count": null,
      "outputs": []
    },
    {
      "cell_type": "markdown",
      "metadata": {
        "id": "appMwDHtRTN5"
      },
      "source": [
        "## Etapa 4: Treinamento do modelo"
      ]
    },
    {
      "cell_type": "code",
      "metadata": {
        "id": "NuB-jEM_T8_I",
        "outputId": "b46ec759-d6a4-4eef-cd84-8c186f95fe54",
        "colab": {
          "base_uri": "https://localhost:8080/"
        }
      },
      "source": [
        "for epoch in range(2000):\n",
        "    \n",
        "    running_loss = 0.\n",
        "    running_accuracy = 0.\n",
        "    \n",
        "    for data in train_loader:\n",
        "        inputs, labels = data\n",
        "\n",
        "        optimizer.zero_grad()        \n",
        "\n",
        "        outputs = classificador(inputs)\n",
        "        loss = criterion(outputs, labels.float().view(*outputs.shape))\n",
        "        loss.backward()\n",
        "        \n",
        "        optimizer.step()\n",
        "\n",
        "        outputs = outputs.flatten().detach().numpy() # Representar outputs como um vetor unidimensional\n",
        "        outputs = (outputs > 0.5).astype('int32') # Converter outputs > 0.5 para classe = 1\n",
        "        labels = labels.flatten().detach().numpy() # labels também vira vetor unidimensional\n",
        "        accuracy = accuracy_score(labels, outputs)\n",
        "\n",
        "        running_loss += loss.item()\n",
        "        running_accuracy += accuracy\n",
        "\n",
        "    print('\\rÉPOCA {:3d} - perda {:03.2f} - precisão {:03.2f}'.format(epoch + 1, running_loss/len(train_loader), running_accuracy/len(train_loader)), end = '\\r')"
      ],
      "execution_count": null,
      "outputs": [
        {
          "output_type": "stream",
          "name": "stdout",
          "text": []
        }
      ]
    },
    {
      "cell_type": "markdown",
      "metadata": {
        "id": "pZLq1P9R-Z9s"
      },
      "source": [
        "## Etapa 5: Avaliação do modelo"
      ]
    },
    {
      "cell_type": "code",
      "metadata": {
        "id": "BvImXp0R-cWe",
        "outputId": "81002c46-5473-4f43-8fff-477999ed7b4b",
        "colab": {
          "base_uri": "https://localhost:8080/"
        }
      },
      "source": [
        "classificador.eval()"
      ],
      "execution_count": null,
      "outputs": [
        {
          "output_type": "execute_result",
          "data": {
            "text/plain": [
              "Sequential(\n",
              "  (0): Linear(in_features=6, out_features=4, bias=True)\n",
              "  (1): ReLU()\n",
              "  (2): Linear(in_features=4, out_features=4, bias=True)\n",
              "  (3): ReLU()\n",
              "  (4): Linear(in_features=4, out_features=1, bias=True)\n",
              "  (5): Sigmoid()\n",
              ")"
            ]
          },
          "metadata": {},
          "execution_count": 16
        }
      ]
    },
    {
      "cell_type": "code",
      "metadata": {
        "id": "62f_f2yS-f_f"
      },
      "source": [
        "previsores_teste = torch.tensor(np.array(previsores_teste), dtype = torch.float)\n",
        "classe_teste = torch.tensor(np.array(classe_teste), dtype = torch.float)"
      ],
      "execution_count": null,
      "outputs": []
    },
    {
      "cell_type": "code",
      "metadata": {
        "id": "xnOj5trn-i0-",
        "outputId": "bf550f62-6a4f-4f32-c6b5-8a1f90aaee8e",
        "colab": {
          "base_uri": "https://localhost:8080/"
        }
      },
      "source": [
        "outputs = classificador(previsores_teste)\n",
        "loss = criterion(outputs, classe_teste.float().view(*outputs.shape)).item()\n",
        "labels = classe_teste.flatten().detach().numpy()\n",
        "outputs = outputs.flatten().detach().numpy()\n",
        "outputs = (outputs > 0.5).astype('int32')\n",
        "accuracy = accuracy_score(labels, outputs)\n",
        "\n",
        "print('Perda no dataset de teste: ', loss, '\\nPrecisão no dataset de teste: ', accuracy)"
      ],
      "execution_count": 20,
      "outputs": [
        {
          "output_type": "stream",
          "name": "stdout",
          "text": [
            "Perda no dataset de teste:  0.22193484008312225 \n",
            "Precisão no dataset de teste:  0.918918918918919\n"
          ]
        }
      ]
    }
  ]
}